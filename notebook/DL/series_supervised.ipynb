{
 "cells": [
  {
   "cell_type": "markdown",
   "metadata": {},
   "source": [
    "1-step univariate forecasting"
   ]
  },
  {
   "cell_type": "code",
   "execution_count": 1,
   "metadata": {},
   "outputs": [],
   "source": [
    "import pandas as pd\n",
    "from pandas import concat\n",
    " \n",
    "def series_to_supervised(data, n_in = 1, n_out = 1, dropnan = True):\n",
    "\t\"\"\"\n",
    "\tFrame a time series as a supervised learning dataset.\n",
    "\tArguments:\n",
    "\t\tdata: Sequence of observations as a list or NumPy array.\n",
    "\t\tn_in: Number of lag observations as input (X).\n",
    "\t\tn_out: Number of observations as output (y).\n",
    "\t\tdropnan: Boolean whether or not to drop rows with NaN values \n",
    "\tReturns:\n",
    "\t\tPandas DataFrame of series framed for supervised learning.\n",
    "\t\"\"\"\n",
    "\tn_vars = 1 if type(data) is list else data.shape[1]\n",
    "\tdf = pd.DataFrame(data)\n",
    "\tcols, names = list(), list()\n",
    "\n",
    "\t# input sequence (t-n, ... t-1)\n",
    "\tfor i in range(n_in, 0, -1):\n",
    "\t\tcols.append(df.shift(i))\n",
    "\t\tnames += [('var%d(t-%d)' % (j+1, i)) for j in range(n_vars)]\n",
    "\t\t\n",
    "\t# forecast sequence (t, t+1, ... t+n)\n",
    "\tfor i in range(0, n_out):\n",
    "\t\tcols.append(df.shift(-i))\n",
    "\t\tif i == 0:\n",
    "\t\t\tnames += [('var%d(t)' % (j+1)) for j in range(n_vars)]\n",
    "\t\telse:\n",
    "\t\t\tnames += [('var%d(t+%d)' % (j+1, i)) for j in range(n_vars)]\n",
    "\t\n",
    "\tagg = concat(cols, axis = 1)\n",
    "\tagg.columns = names\n",
    "\t\n",
    "    ## drop rows with NaN values\n",
    "\tif dropnan:\n",
    "\t\tagg.dropna(inplace = True)\n",
    "\treturn agg\n",
    " "
   ]
  },
  {
   "cell_type": "code",
   "execution_count": 7,
   "metadata": {},
   "outputs": [
    {
     "name": "stdout",
     "output_type": "stream",
     "text": [
      "   var1(t-1)  var1(t)\n",
      "0        NaN        0\n",
      "1        0.0        1\n",
      "2        1.0        2\n",
      "3        2.0        3\n",
      "4        3.0        4\n",
      "5        4.0        5\n",
      "6        5.0        6\n",
      "7        6.0        7\n",
      "8        7.0        8\n",
      "9        8.0        9\n"
     ]
    }
   ],
   "source": [
    "values = [x for x in range(10)]\n",
    "#data = series_to_supervised(values, 1)\n",
    "data = series_to_supervised(values)\n",
    "print(data)"
   ]
  },
  {
   "cell_type": "code",
   "execution_count": 2,
   "metadata": {},
   "outputs": [
    {
     "name": "stdout",
     "output_type": "stream",
     "text": [
      "   var1(t-3)  var1(t-2)  var1(t-1)  var1(t)\n",
      "0        NaN        NaN        NaN        0\n",
      "1        NaN        NaN        0.0        1\n",
      "2        NaN        0.0        1.0        2\n",
      "3        0.0        1.0        2.0        3\n",
      "4        1.0        2.0        3.0        4\n",
      "5        2.0        3.0        4.0        5\n",
      "6        3.0        4.0        5.0        6\n",
      "7        4.0        5.0        6.0        7\n",
      "8        5.0        6.0        7.0        8\n",
      "9        6.0        7.0        8.0        9\n"
     ]
    }
   ],
   "source": [
    "values = [x for x in range(10)]\n",
    "data = series_to_supervised(values, 3)\n",
    "print(data)"
   ]
  },
  {
   "cell_type": "markdown",
   "metadata": {},
   "source": [
    "Multi-step (or sequence) univariate forecasting"
   ]
  },
  {
   "cell_type": "code",
   "execution_count": 12,
   "metadata": {},
   "outputs": [
    {
     "name": "stdout",
     "output_type": "stream",
     "text": [
      "   var1(t-1)  var1(t)  var1(t+1)\n",
      "1        0.0        1        2.0\n",
      "2        1.0        2        3.0\n",
      "3        2.0        3        4.0\n",
      "4        3.0        4        5.0\n",
      "5        4.0        5        6.0\n",
      "6        5.0        6        7.0\n",
      "7        6.0        7        8.0\n",
      "8        7.0        8        9.0\n"
     ]
    }
   ],
   "source": [
    "values = [x for x in range(10)]\n",
    "data = series_to_supervised(values, 1, 2)\n",
    "print(data)"
   ]
  },
  {
   "cell_type": "markdown",
   "metadata": {},
   "source": [
    "1-step multivariate forecasting"
   ]
  },
  {
   "cell_type": "code",
   "execution_count": 5,
   "metadata": {},
   "outputs": [
    {
     "name": "stdout",
     "output_type": "stream",
     "text": [
      "   var1(t-1)  var2(t-1)  var1(t)  var2(t)\n",
      "0        NaN        NaN        0       50\n",
      "1        0.0       50.0        1       51\n",
      "2        1.0       51.0        2       52\n",
      "3        2.0       52.0        3       53\n",
      "4        3.0       53.0        4       54\n",
      "5        4.0       54.0        5       55\n",
      "6        5.0       55.0        6       56\n",
      "7        6.0       56.0        7       57\n",
      "8        7.0       57.0        8       58\n",
      "9        8.0       58.0        9       59\n"
     ]
    }
   ],
   "source": [
    "raw = pd.DataFrame()\n",
    "raw['obs1'] = [x for x in range(10)]\n",
    "raw['obs2'] = [x for x in range(50, 60)]\n",
    "values = raw.values\n",
    "data = series_to_supervised(values)\n",
    "print(data)"
   ]
  },
  {
   "cell_type": "markdown",
   "metadata": {},
   "source": [
    "Multi-step (or sequence) multivariate forecasting"
   ]
  },
  {
   "cell_type": "code",
   "execution_count": 13,
   "metadata": {},
   "outputs": [
    {
     "name": "stdout",
     "output_type": "stream",
     "text": [
      "   var1(t-1)  var2(t-1)  var1(t)  var2(t)  var1(t+1)  var2(t+1)\n",
      "1        0.0       50.0        1       51        2.0       52.0\n",
      "2        1.0       51.0        2       52        3.0       53.0\n",
      "3        2.0       52.0        3       53        4.0       54.0\n",
      "4        3.0       53.0        4       54        5.0       55.0\n",
      "5        4.0       54.0        5       55        6.0       56.0\n",
      "6        5.0       55.0        6       56        7.0       57.0\n",
      "7        6.0       56.0        7       57        8.0       58.0\n",
      "8        7.0       57.0        8       58        9.0       59.0\n"
     ]
    }
   ],
   "source": [
    "raw = pd.DataFrame()\n",
    "raw['obs1'] = [x for x in range(10)]\n",
    "raw['obs2'] = [x for x in range(50, 60)]\n",
    "values = raw.values\n",
    "data = series_to_supervised(values, 1, 2)\n",
    "print(data)"
   ]
  },
  {
   "cell_type": "code",
   "execution_count": null,
   "metadata": {},
   "outputs": [],
   "source": []
  }
 ],
 "metadata": {
  "interpreter": {
   "hash": "af8b93295ec152667600696eebafdfb1a6679e79e15871d01906b24cd0cc4b31"
  },
  "kernelspec": {
   "display_name": "Python 3.7.6 ('base')",
   "language": "python",
   "name": "python3"
  },
  "language_info": {
   "codemirror_mode": {
    "name": "ipython",
    "version": 3
   },
   "file_extension": ".py",
   "mimetype": "text/x-python",
   "name": "python",
   "nbconvert_exporter": "python",
   "pygments_lexer": "ipython3",
   "version": "3.7.6"
  },
  "orig_nbformat": 4
 },
 "nbformat": 4,
 "nbformat_minor": 2
}
