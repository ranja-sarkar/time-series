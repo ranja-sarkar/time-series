{
 "cells": [
  {
   "cell_type": "code",
   "execution_count": 1,
   "metadata": {},
   "outputs": [],
   "source": [
    "import pandas as pd\n",
    "import datetime\n",
    "import matplotlib.pyplot as plt\n",
    "import seaborn as sns\n",
    "\n",
    "from statsmodels.tsa.holtwinters import ExponentialSmoothing as ES\n",
    "from statsmodels.tsa.seasonal import seasonal_decompose\n",
    "from statsmodels.tsa.stattools import adfuller, kpss\n",
    "from statsmodels.graphics.tsaplots import plot_acf\n",
    "\n",
    "from pmdarima import auto_arima\n",
    "import statsmodels.api as sm\n",
    "\n",
    "import numpy as np\n",
    "from math import sqrt\n",
    "from sklearn.metrics import mean_squared_error\n",
    "\n",
    "from glob import glob\n",
    "\n",
    "import warnings\n",
    "warnings.filterwarnings(\"ignore\")"
   ]
  },
  {
   "cell_type": "code",
   "execution_count": null,
   "metadata": {},
   "outputs": [],
   "source": [
    "#Generate sampled daily data\n",
    "\n",
    "def sample_daily(customer_file):\n",
    "    \"\"\"This function creates daily data for all customer-sites from the hourly energy consumption data\"\"\"\n",
    "    \n",
    "    df = pd.read_csv(customer_file, parse_dates = ['Start Time'])\n",
    "    df.set_index('Start Time', inplace = True)\n",
    "    df['Date'] = df.index\n",
    "    customer_name = str(customer_file[:-15])\n",
    "    \n",
    "    site_id = df['Site ID'].unique()\n",
    "    site_name = df['Site Name'].unique()\n",
    "\n",
    "    resultsdf = pd.DataFrame(columns = ['Site', 'Site Name', 'Energy Consumption (kWh)'])\n",
    "    results = pd.DataFrame(columns = ['Site', 'Site Name', 'Energy Consumption (kWh)'])\n",
    "    for i in range(0, len(site_id)):\n",
    "        \n",
    "        resultsdf['Energy Consumption (kWh)'] = df['Sum'][df['Site ID'] == site_id[i]].resample('D').sum()\n",
    "        resultsdf['Site'] = df['Site ID'][df['Site ID'] == site_id[i]].resample('D').first()\n",
    "        resultsdf['Site Name'] = df['Site Name'][df['Site Name'] == site_name[i]].resample('D').first()\n",
    "        results = results.append(resultsdf)\n",
    "        results['Date'] = results.index      \n",
    " \n",
    "    return results"
   ]
  },
  {
   "cell_type": "code",
   "execution_count": null,
   "metadata": {},
   "outputs": [],
   "source": [
    "#CUSTOMIZABLE BLOCK\n",
    "\n",
    "#User input: Raw kWh report csv file (/data/raw/kWh Reports/)\n",
    "#data_daily = sample_daily('')\n",
    "\n",
    "#Save the daily data as csv\n",
    "#data_daily.to_csv('Caliber_Daily.csv')"
   ]
  },
  {
   "cell_type": "code",
   "execution_count": 2,
   "metadata": {},
   "outputs": [],
   "source": [
    "def read_file(customer_file, site_id):\n",
    "    \"\"\"This function generates dataframe for a site with corresponding customer name\"\"\"\n",
    "    \n",
    "    df = pd.read_csv(customer_file)\n",
    "    df['Date'] = pd.to_datetime(df['Date'])\n",
    "    df = df.set_index(df['Date'])\n",
    "    \n",
    "    customer_name = str(customer_file[0:-10])\n",
    "    dff = df.loc[df['Site'] == site_id]\n",
    "    \n",
    "    return customer_name, site_id, dff\n",
    "\n",
    "\n",
    "#Inputs\n",
    "customer_name, site_id, data_daily = read_file('Caliber_Daily.csv', 'CCC0501')"
   ]
  },
  {
   "cell_type": "code",
   "execution_count": 8,
   "metadata": {},
   "outputs": [
    {
     "data": {
      "image/png": "[encoded data removed]",
      "text/plain": [
       "<Figure size 864x504 with 1 Axes>"
      ]
     },
     "metadata": {
      "needs_background": "light"
     },
     "output_type": "display_data"
    }
   ],
   "source": [
    "data_daily['Month'] = data_daily.index.month_name(locale = 'English')\n",
    "#data_daily['Year'] = data_daily.index.year\n",
    "#data_daily['Week'] = data_daily.index.week\n",
    "data_daily['Day'] = data_daily.index.day_name(locale = 'English')\n",
    "\n",
    "plt.figure(figsize = (12, 7))\n",
    "sns.boxplot(data = data_daily, x = 'Month', y = 'Energy Consumption (kWh)')\n",
    "\n",
    "plt.ylabel('Energy Consumption (kWh)')\n",
    "plt.title([customer_name, site_id])\n",
    "plt.xlabel('Month')\n",
    "plt.grid()"
   ]
  },
  {
   "cell_type": "code",
   "execution_count": 6,
   "metadata": {},
   "outputs": [
    {
     "data": {
      "text/plain": [
       "Day\n",
       "Sunday        45856.19\n",
       "Monday        95264.05\n",
       "Tuesday      103948.70\n",
       "Wednesday    103318.30\n",
       "Thursday     103405.57\n",
       "Friday       101377.32\n",
       "Saturday      59752.19\n",
       "Name: Energy Consumption (kWh), dtype: float64"
      ]
     },
     "execution_count": 6,
     "metadata": {},
     "output_type": "execute_result"
    }
   ],
   "source": [
    "n = ['Sunday', 'Monday', 'Tuesday', 'Wednesday', 'Thursday', 'Friday', 'Saturday']\n",
    "#data_daily['Energy Consumption (kWh)'].groupby(data_daily['Day']).sum().plot()\n",
    "\n",
    "#plt.figure(figsize = (6, 4))\n",
    "data_daily['Energy Consumption (kWh)'].groupby(data_daily['Day']).sum().round(2).reindex(n)\n",
    "#plt.grid()\n",
    "#plt.ylabel('Energy Consumption (kWh)')"
   ]
  },
  {
   "cell_type": "code",
   "execution_count": 7,
   "metadata": {},
   "outputs": [
    {
     "data": {
      "text/plain": [
       "Day\n",
       "Sunday        833.75\n",
       "Monday       1732.07\n",
       "Tuesday      1889.98\n",
       "Wednesday    1878.51\n",
       "Thursday     1880.10\n",
       "Friday       1810.31\n",
       "Saturday     1086.40\n",
       "Name: Energy Consumption (kWh), dtype: float64"
      ]
     },
     "execution_count": 7,
     "metadata": {},
     "output_type": "execute_result"
    }
   ],
   "source": [
    "#Average week days & week ends consumption over 1 year\n",
    "#data_daily['Energy Consumption (kWh)'].groupby(data_daily['Day']).mean().round(2).reindex(n)\n",
    "\n",
    "#plt.figure(figsize = (6, 4))\n",
    "data_daily['Energy Consumption (kWh)'].groupby(data_daily['Day']).mean().round(2).reindex(n)\n",
    "#plt.grid()\n",
    "#plt.ylabel('Energy Consumption (kWh)')"
   ]
  },
  {
   "cell_type": "code",
   "execution_count": null,
   "metadata": {},
   "outputs": [],
   "source": [
    "#Check site average energy consumption for given timeframe\n",
    "\n",
    "y = round(np.mean(data_daily['Energy Consumption (kWh)']), 2)\n",
    "print(\"Average energy consumption (kWh) =\", y)"
   ]
  },
  {
   "cell_type": "code",
   "execution_count": null,
   "metadata": {},
   "outputs": [],
   "source": [
    "def split_data(dataseries, column_name):\n",
    "    \"\"\"This function splits time-series data into train & test datasets and plots them\"\"\"\n",
    "    \n",
    "    min_value, max_value = dataseries['Date'].min(), dataseries['Date'].max()\n",
    "    \n",
    "    #make it a suitable 80% - 20% split\n",
    "    train = dataseries[column_name].loc[min_value:'2020-08-10']\n",
    "    test = dataseries[column_name].loc['2020-08-11':'2020-10-19']\n",
    "    \n",
    "    plt.figure(figsize = (9, 6))\n",
    "    plt.plot(train, color = 'b')\n",
    "    plt.title([customer_name, site_id])\n",
    "    plt.xlabel('Date')\n",
    "    plt.ylabel('Energy Consumption (kWh)')\n",
    "    plt.plot(test, color = 'orange')\n",
    "    plt.legend(['Train', 'Test'])\n",
    "    \n",
    "    return train, test, plt.show()\n",
    "\n",
    "\n",
    "#User input: Time-series data & univariate series name\n",
    "\n",
    "train, test, plot = split_data(data_daily, 'Energy Consumption (kWh)')"
   ]
  },
  {
   "cell_type": "code",
   "execution_count": null,
   "metadata": {},
   "outputs": [],
   "source": [
    "#Check test ratio\n",
    "\n",
    "print(\"#Train=\", len(train))\n",
    "print(\"#Test=\", len(test)) \n",
    "print(\"Test % =\", round(((len(test)/len(data_daily))*100), 2))"
   ]
  },
  {
   "cell_type": "markdown",
   "metadata": {},
   "source": [
    "# Simple Moving Average"
   ]
  },
  {
   "cell_type": "code",
   "execution_count": null,
   "metadata": {},
   "outputs": [],
   "source": [
    "#Create MA model (rolling window = 7 days)\n",
    "\n",
    "window_size = 7\n",
    "hist = [train[i] for i in range(len(train))]\n",
    "pred0 = []\n",
    "for t in range(len(test)):\n",
    "    yhat = np.mean(hist[-(window_size)])\n",
    "    obs = test.iloc[t]\n",
    "    pred0.append(yhat)\n",
    "    hist.append(obs)\n"
   ]
  },
  {
   "cell_type": "code",
   "execution_count": null,
   "metadata": {},
   "outputs": [],
   "source": [
    "def model_output(predicted_data):\n",
    "    \"\"\"This plots test and predicted datasets for a visual comparison\"\"\"\n",
    "    \n",
    "    forecast_data = pd.DataFrame(predicted_data, index = test.index, columns = ['Forecast-SMA'])\n",
    "    output = pd.concat([test, forecast_data], axis = 1)\n",
    "    \n",
    "    return output.plot(title = site_id), output\n",
    "\n",
    "\n",
    "#User input: Forecasted dataset\n",
    "plot0, resultsdf0 = model_output(pred0)"
   ]
  },
  {
   "cell_type": "code",
   "execution_count": null,
   "metadata": {},
   "outputs": [],
   "source": [
    "def check_error(orig, fore):\n",
    "    \"\"\"This function generates performance metrics\"\"\"\n",
    "    \n",
    "    mse = mean_squared_error(orig, fore)\n",
    "    rmse = round(sqrt(mse), 2)\n",
    "    mape = round(np.mean(np.abs((orig - fore) / orig)) * 100, 2)\n",
    "    metrics = [rmse, mape]\n",
    "    \n",
    "    return metrics[0], metrics[1]\n",
    "\n",
    "\n",
    "def plot_error(output_data):\n",
    "    \"\"\"This generates residual graphs\"\"\"\n",
    "    \n",
    "    plt.figure(figsize = (15, 10))\n",
    "    ax1 = plt.subplot2grid((2,2), (0,0))\n",
    "    ax2 = plt.subplot2grid((2,2), (0,1))   \n",
    "    \n",
    "    ## QQ-plot of the residual\n",
    "    sm.graphics.qqplot(output_data.iloc[:, 2], line = 'r', ax = ax1)\n",
    "    \n",
    "    # Autocorrelation plot of the residual\n",
    "    plot_acf(output_data.iloc[:, 2], lags = len(output_data.iloc[:, 2])-1, zero = False, ax = ax2)\n",
    "    \n",
    "    return plt.show()\n"
   ]
  },
  {
   "cell_type": "code",
   "execution_count": null,
   "metadata": {},
   "outputs": [],
   "source": [
    "#Create error column, then plot errors\n",
    "\n",
    "resultsdf0['Error'] = resultsdf0['Forecast-SMA'] - resultsdf0['Energy Consumption (kWh)']\n",
    "#resultsdf0.to_csv('')\n",
    "\n",
    "#Inputs\n",
    "rmse0, mape0 = check_error(test, pred0)\n",
    "plot_error(resultsdf0)"
   ]
  },
  {
   "cell_type": "code",
   "execution_count": null,
   "metadata": {},
   "outputs": [],
   "source": [
    "#Create model summary dataframe\n",
    "\n",
    "errordf = pd.DataFrame(columns = ['Site ID', 'Region', 'Test ratio', 'Forecast Model', 'RMSE','MAPE'])"
   ]
  },
  {
   "cell_type": "code",
   "execution_count": null,
   "metadata": {},
   "outputs": [],
   "source": [
    "#change region in accordance with site ID\n",
    "\n",
    "m0 = resultsdf0.columns[1][9:]\n",
    "\n",
    "df0 = errordf.append({'Site ID': site_id,'Region': 'US-NJ', 'Test ratio':'20%', 'Forecast Model': m0,'RMSE': rmse0, 'MAPE': mape0}, \n",
    "                     ignore_index = True)\n",
    "df0"
   ]
  },
  {
   "cell_type": "markdown",
   "metadata": {},
   "source": [
    "# Exponential Smoothing"
   ]
  },
  {
   "cell_type": "code",
   "execution_count": null,
   "metadata": {},
   "outputs": [],
   "source": [
    "#Create SE model with a smoothing parameter (lag = 1 period)\n",
    "\n",
    "alpha = 1.0\n",
    "hist = [train[i] for i in range(len(train))]\n",
    "hist_pred = [train.iloc[i] for i in range(len(train))]\n",
    "pred1 = []\n",
    "for t in range(len(test)):\n",
    "    yhat = hist_pred[-1] + alpha*(hist[-1] - hist_pred[-1])\n",
    "    obs = test.iloc[t]\n",
    "    pred1.append(yhat)\n",
    "    hist.append(obs)\n",
    "    hist_pred.append(yhat)\n"
   ]
  },
  {
   "cell_type": "code",
   "execution_count": null,
   "metadata": {},
   "outputs": [],
   "source": [
    "#Print model summary\n",
    "\n",
    "model = ES(train).fit(smoothing_level = alpha)\n",
    "print(model.summary())"
   ]
  },
  {
   "cell_type": "code",
   "execution_count": null,
   "metadata": {},
   "outputs": [],
   "source": [
    "def model_output(predicted_data):\n",
    "    \"\"\"This plots test and predicted datasets for a visual comparison\"\"\"\n",
    "    \n",
    "    forecast_data = pd.DataFrame(predicted_data, index = test.index, columns = ['Forecast-SE'])\n",
    "    output = pd.concat([test, forecast_data], axis = 1)\n",
    "    \n",
    "    return output.plot(title = site_id), output\n",
    "\n",
    "\n",
    "#User input: Forecasted dataset\n",
    "plot1, resultsdf1 = model_output(pred1)"
   ]
  },
  {
   "cell_type": "code",
   "execution_count": null,
   "metadata": {},
   "outputs": [],
   "source": [
    "def check_error(orig, fore):\n",
    "    \"\"\"This function generates performance metrics\"\"\"\n",
    "    \n",
    "    mse = mean_squared_error(orig, fore)\n",
    "    rmse = round(sqrt(mse), 2)\n",
    "    mape = round(np.mean(np.abs((orig - fore) / orig)) * 100, 2)\n",
    "    metrics = [rmse, mape]\n",
    "    \n",
    "    return metrics[0], metrics[1]\n",
    "\n",
    "\n",
    "def plot_error(output_data):\n",
    "    \"\"\"This generates residual graphs\"\"\"\n",
    "    \n",
    "    plt.figure(figsize = (15, 10))\n",
    "    ax1 = plt.subplot2grid((2,2), (0,0))\n",
    "    ax2 = plt.subplot2grid((2,2), (0,1))   \n",
    "    \n",
    "    ## QQ-plot of the residual\n",
    "    sm.graphics.qqplot(output_data.iloc[:, 2], line = 'r', ax = ax1)\n",
    "    \n",
    "    # Autocorrelation plot of the residual\n",
    "    plot_acf(output_data.iloc[:, 2], lags = len(output_data.iloc[:, 2])-1, zero = False, ax = ax2)\n",
    "    \n",
    "    return plt.show()\n"
   ]
  },
  {
   "cell_type": "code",
   "execution_count": null,
   "metadata": {},
   "outputs": [],
   "source": [
    "#Create error column, then plot errors\n",
    "\n",
    "resultsdf1['Error'] = resultsdf1['Forecast-SE'] - resultsdf1['Energy Consumption (kWh)']\n",
    "#resultsdf1.to_csv('')\n",
    "\n",
    "#Inputs\n",
    "rmse1, mape1 = check_error(test, pred1)\n",
    "plot_error(resultsdf1)"
   ]
  },
  {
   "cell_type": "code",
   "execution_count": null,
   "metadata": {},
   "outputs": [],
   "source": [
    "m1 = resultsdf1.columns[1][9:]\n",
    "\n",
    "df1 = df0.append({'Site ID': site_id,'Region': 'US-NJ', 'Test ratio':'20%', 'Forecast Model': m1,'RMSE': rmse1, 'MAPE': mape1}, \n",
    "                     ignore_index = True)\n",
    "df1"
   ]
  },
  {
   "cell_type": "markdown",
   "metadata": {},
   "source": [
    "# ARIMA"
   ]
  },
  {
   "cell_type": "code",
   "execution_count": null,
   "metadata": {},
   "outputs": [],
   "source": [
    "def data_AC(column_name):\n",
    "    \"\"\"This function finds auto-correlation of the univariate series\"\"\"\n",
    "    \n",
    "    y = data_daily[column_name]\n",
    "    pd.plotting.autocorrelation_plot(y)\n",
    "    plt.title([customer_name, site_id])\n",
    "    \n",
    "    return plt.show()\n",
    "\n",
    "\n",
    "#User input: Univariate series name\n",
    "data_AC('Energy Consumption (kWh)')"
   ]
  },
  {
   "cell_type": "code",
   "execution_count": null,
   "metadata": {},
   "outputs": [],
   "source": [
    "def data_decomposition(dataseries, freq):\n",
    "    \"\"\"This function plots components of the dataset\"\"\"\n",
    "    \n",
    "    result = seasonal_decompose(dataseries, period = freq)\n",
    "    fig = result.plot().set_size_inches(12, 9)\n",
    "    return fig\n",
    "\n",
    "\n",
    "#User inputs: Data & series frequency\n",
    "data_decomposition(train.append([test]), 7)"
   ]
  },
  {
   "cell_type": "code",
   "execution_count": null,
   "metadata": {},
   "outputs": [],
   "source": [
    "#Series stationarity tests\n",
    "\n",
    "def adfuller_test(dataseries):\n",
    "    \"\"\"This checks data stationarity (Dickey-Fuller Test) and prints the reults\"\"\"\n",
    "    \n",
    "    adf = adfuller(dataseries)\n",
    "    output = pd.Series(adf[0:4], index = ['ADF Statistic', 'p-value', 'Lags', '#comments used'])\n",
    "    for key, value in adf[4].items():\n",
    "        output[\"Critical Value (%s)\" %key] = value\n",
    "    \n",
    "    return print(output)\n",
    "\n",
    "\n",
    "def kpss_test(dataseries):\n",
    "    \"\"\"This checks data stationarity (KPSS Test) and prints the results\"\"\"\n",
    "    \n",
    "    kpss_input = kpss(dataseries)\n",
    "    output = pd.Series(kpss_input[0:3], index = ['KPSS Statistic', 'p-value', 'Lags'])\n",
    "    \n",
    "    for key, value in kpss_input[3].items():\n",
    "        output[\"Critical Value (%s)\" %key] = value \n",
    "    \n",
    "    return print(output)\n",
    "\n",
    "\n",
    "#User input: Training data\n",
    "adfuller_test(train)\n",
    "kpss_test(train)\n",
    "print('\\n')\n",
    "print('First-differenced Train set:')\n",
    "adfuller_test(train.diff().dropna())\n",
    "kpss_test(train.diff().dropna())"
   ]
  },
  {
   "cell_type": "code",
   "execution_count": null,
   "metadata": {},
   "outputs": [],
   "source": [
    "def order_parameters(training_data):\n",
    "    \"\"\"This performs a grid search for best model parameters; use kpss test for optimal D\"\"\"\n",
    "    \n",
    "    search_params = auto_arima(train, start_p = 0, start_q = 0, m = 7, seasonal = True, test = \"adf\", d = None, D = 0, trace = True, information_criterion = \"aic\", alpha = 0.05,  \n",
    "                               error_action = 'ignore', suppress_warnings = True, stepwise = True)\n",
    "    \n",
    "    print(\"AIC = \", round(search_params.aic(), 2))\n",
    "    print(\"BIC = \", round(search_params.bic(), 2))\n",
    "    return search_params\n",
    "\n",
    "\n",
    "#User input: Train set\n",
    "model = order_parameters(train)"
   ]
  },
  {
   "cell_type": "code",
   "execution_count": null,
   "metadata": {},
   "outputs": [],
   "source": [
    "def train_model(training_data, p, d, q, P, D, Q, m):\n",
    "    \"\"\"This executes model training and prints model summary\"\"\"\n",
    "    \n",
    "    mod = sm.tsa.arima.ARIMA(training_data, order = (p, d, q), seasonal_order = (P, D, Q, m))\n",
    "    model_fit = mod.fit()\n",
    "    return model_fit, print(model_fit.summary().tables[0], model_fit.summary().tables[1])\n",
    "\n",
    "\n",
    "#User inputs: Training data & parameters found from grid search\n",
    "\n",
    "model_fit, summary = train_model(train, 4, 1, 0, 1, 0, 2, 7)"
   ]
  },
  {
   "cell_type": "code",
   "execution_count": null,
   "metadata": {},
   "outputs": [],
   "source": [
    "def test_model(test_data):\n",
    "    \"\"\"This executes model testing\"\"\"\n",
    "    \n",
    "    output_data = model_fit.get_forecast(steps = len(test_data), alpha = 0.05) #default 95% CI\n",
    "    pred_data = output_data.predicted_mean\n",
    "    return pred_data\n",
    "\n",
    "\n",
    "#User input: Test set\n",
    "pred2 = test_model(test)"
   ]
  },
  {
   "cell_type": "code",
   "execution_count": null,
   "metadata": {},
   "outputs": [],
   "source": [
    "def model_output(predicted_data):\n",
    "    \"\"\"This plots test and predicted datasets for a visual comparison\"\"\"\n",
    "    \n",
    "    forecast_data = pd.DataFrame(predicted_data, index = test.index, columns = ['Forecast-ARIMA'])\n",
    "    output = pd.concat([test, forecast_data], axis = 1)\n",
    "    \n",
    "    return output.plot(title = site_id), output\n",
    "\n",
    "\n",
    "#User input: Forecasted dataset\n",
    "plot2, resultsdf2 = model_output(pred2)"
   ]
  },
  {
   "cell_type": "code",
   "execution_count": null,
   "metadata": {},
   "outputs": [],
   "source": [
    "def check_error(orig, fore):\n",
    "    \"\"\"This function generates performance metrics\"\"\"\n",
    "    \n",
    "    mse = mean_squared_error(orig, fore)\n",
    "    rmse = round(sqrt(mse), 2)\n",
    "    mape = round(np.mean(np.abs((orig - fore) / orig)) * 100, 2)\n",
    "    metrics = [rmse, mape]\n",
    "    \n",
    "    return metrics[0], metrics[1]\n",
    "\n",
    "\n",
    "def plot_error(output_data):\n",
    "    \"\"\"This generates residual graphs\"\"\"\n",
    "    \n",
    "    plt.figure(figsize = (15, 10))\n",
    "    ax1 = plt.subplot2grid((2,2), (0,0))\n",
    "    ax2 = plt.subplot2grid((2,2), (0,1)) \n",
    "    \n",
    "    ## QQ-plot of the residual\n",
    "    sm.graphics.qqplot(output_data.iloc[:, 2], line = 'r', ax = ax1)\n",
    "    \n",
    "    # Autocorrelation plot of the residual\n",
    "    plot_acf(output_data.iloc[:, 2], lags = len(output_data.iloc[:, 2])-1, zero = False, ax = ax2)\n",
    "       \n",
    "    return plt.show()"
   ]
  },
  {
   "cell_type": "code",
   "execution_count": null,
   "metadata": {},
   "outputs": [],
   "source": [
    "#Create error column, then plot errors\n",
    "\n",
    "resultsdf2['Error'] = resultsdf2['Forecast-ARIMA'] - resultsdf2['Energy Consumption (kWh)']\n",
    "#resultsdf2.to_csv('')\n",
    "\n",
    "#Inputs\n",
    "rmse2, mape2 = check_error(test, pred2)\n",
    "plot_error(resultsdf2)"
   ]
  },
  {
   "cell_type": "code",
   "execution_count": null,
   "metadata": {},
   "outputs": [],
   "source": [
    "#Append to summary dataframe; check-in data stationarity column as well\n",
    "\n",
    "m2 = resultsdf2.columns[1][9:]\n",
    "\n",
    "df2 = df1.append({'Site ID':site_id,'Region': 'US-NJ', 'Test ratio':'20%', 'Forecast Model': m2,'RMSE':rmse2, 'MAPE':mape2, 'Series Stationary-Y/N?': 'N'},\n",
    "                 ignore_index = True)\n",
    "df2"
   ]
  },
  {
   "cell_type": "markdown",
   "metadata": {},
   "source": [
    "# Model Comparison & Output Dataframe"
   ]
  },
  {
   "cell_type": "code",
   "execution_count": null,
   "metadata": {},
   "outputs": [],
   "source": [
    "def model_output(predicted_data0, predicted_data1, predicted_data2):\n",
    "    \"\"\"This plots test & predicted datasets for a visual comparison of the models\"\"\"\n",
    "    \n",
    "    forecast_data0 = pd.DataFrame(predicted_data0, index = test.index, columns = ['Forecast-SMA'])\n",
    "    forecast_data1 = pd.DataFrame(predicted_data1, index = test.index, columns = ['Forecast-SE'])\n",
    "    forecast_data2 = pd.DataFrame(predicted_data2, index = test.index, columns = ['Forecast-ARIMA'])\n",
    "    \n",
    "    avg_consumption = pd.DataFrame(y, index = test.index, columns = [\"Average Energy Consumption (kWh)\"])\n",
    "    site = pd.DataFrame(site_id, index = test.index, columns = [\"Site ID\"])\n",
    "    output = pd.concat([site, test, avg_consumption, forecast_data0, forecast_data1, forecast_data2], axis = 1)\n",
    "    \n",
    "    return output.plot(title = site_id, figsize = (14, 7)), output\n",
    "\n",
    "\n",
    "#User input: Forecasted datasets\n",
    "plot, resultsdf = model_output(pred0, pred1, pred2)"
   ]
  },
  {
   "cell_type": "code",
   "execution_count": null,
   "metadata": {},
   "outputs": [],
   "source": [
    "#Save site results to csv files\n",
    "\n",
    "#resultsdf.to_csv('results_CCC4103.csv')\n",
    "#resultsdf.to_csv('results_CCC2009.csv')\n",
    "#resultsdf.to_csv('results_CCC1059.csv')\n",
    "#resultsdf.to_csv('results_CCC0543.csv')\n",
    "#resultsdf.to_csv('results_CCC0501.csv')\n",
    "#resultsdf.to_csv('results_CCC0611.csv')\n",
    "#resultsdf.to_csv('results_CCC0571.csv')\n",
    "\n",
    "#Load site result files as dataframes\n",
    "\n",
    "filenames = glob('results*.csv')\n",
    "dataframe = [pd.read_csv(f) for f in filenames]"
   ]
  },
  {
   "cell_type": "code",
   "execution_count": null,
   "metadata": {},
   "outputs": [],
   "source": [
    "#Write big output (all sites) in csv file\n",
    "\n",
    "big_frame = pd.concat(dataframe, ignore_index = True)\n",
    "#big_frame.to_csv('CCC_output.csv')"
   ]
  },
  {
   "cell_type": "code",
   "execution_count": null,
   "metadata": {},
   "outputs": [],
   "source": []
  }
 ],
 "metadata": {
  "kernelspec": {
   "display_name": "Python 3",
   "language": "python",
   "name": "python3"
  },
  "language_info": {
   "codemirror_mode": {
    "name": "ipython",
    "version": 3
   },
   "file_extension": ".py",
   "mimetype": "text/x-python",
   "name": "python",
   "nbconvert_exporter": "python",
   "pygments_lexer": "ipython3",
   "version": "3.7.6"
  }
 },
 "nbformat": 4,
 "nbformat_minor": 4
}
