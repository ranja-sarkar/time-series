{
 "cells": [
  {
   "cell_type": "code",
   "execution_count": 1,
   "metadata": {},
   "outputs": [],
   "source": [
    "import pandas as pd\n",
    "import datetime\n",
    "import matplotlib.pyplot as plt\n",
    "\n",
    "from statsmodels.graphics.tsaplots import plot_acf, plot_pacf\n",
    "from statsmodels.tsa.seasonal import seasonal_decompose\n",
    "from statsmodels.tsa.stattools import adfuller, kpss\n",
    "#from statsmodels.tsa.stattools import acf, pacf\n",
    "#acf(data, nlags = , method = '')\n",
    "#pacf(data, nlags = , method = '')\n",
    "\n",
    "from pmdarima import auto_arima\n",
    "import statsmodels.api as sm\n",
    "\n",
    "import numpy as np\n",
    "from math import sqrt\n",
    "from sklearn.metrics import mean_squared_error\n"
   ]
  },
  {
   "cell_type": "code",
   "execution_count": 2,
   "metadata": {},
   "outputs": [
    {
     "data": {
      "text/plain": [
       "(386, 5)"
      ]
     },
     "execution_count": 2,
     "metadata": {},
     "output_type": "execute_result"
    }
   ],
   "source": [
    "df = pd.read_csv('Caliber_Daily.csv')\n",
    "\n",
    "df['Date'] = pd.to_datetime(df['Date'])\n",
    "df = df.set_index(df['Date'])\n",
    "\n",
    "dff = df.loc[df['Site'] == 'CCC0611']\n",
    "dff.shape"
   ]
  },
  {
   "cell_type": "code",
   "execution_count": 3,
   "metadata": {},
   "outputs": [
    {
     "name": "stdout",
     "output_type": "stream",
     "text": [
      "Mean: 586.57\n",
      "Min: 2019-11-01 00:00:00\n",
      "Max: 2020-11-20 00:00:00\n"
     ]
    }
   ],
   "source": [
    "x = dff['Date']\n",
    "y = dff['Energy Consumption (kWh)']\n",
    "#data = pd.DataFrame({'Date': x, 'Energy Consumption (kWh)':y})\n",
    "\n",
    "print(\"Mean:\", round(y.mean(), 2))\n",
    "print(\"Min:\", dff['Date'].min())\n",
    "print(\"Max:\", dff['Date'].max())"
   ]
  },
  {
   "cell_type": "code",
   "execution_count": 4,
   "metadata": {},
   "outputs": [
    {
     "name": "stdout",
     "output_type": "stream",
     "text": [
      "Autocorrelation = 0.4394\n"
     ]
    }
   ],
   "source": [
    "#pd.plotting.autocorrelation_plot(y)\n",
    "#Default is lag = 1\n",
    "shift1 = y.autocorr()\n",
    "\n",
    "#plt.show()\n",
    "print('Autocorrelation =', shift1.round(4))"
   ]
  },
  {
   "cell_type": "code",
   "execution_count": 5,
   "metadata": {},
   "outputs": [
    {
     "data": {
      "image/png": "[encoded data removed]",
      "text/plain": [
       "<Figure size 864x648 with 2 Axes>"
      ]
     },
     "metadata": {
      "needs_background": "light"
     },
     "output_type": "display_data"
    }
   ],
   "source": [
    "#Specify lags\n",
    "\n",
    "plt.figure(figsize = (12, 9))\n",
    "ax1 = plt.subplot2grid((2,2), (0,0))\n",
    "ax2 = plt.subplot2grid((2,2), (0,1))\n",
    "    \n",
    "plot_acf(y, ax = ax1)\n",
    "plot_pacf(y, ax = ax2)\n",
    "plt.show()"
   ]
  },
  {
   "cell_type": "code",
   "execution_count": 7,
   "metadata": {},
   "outputs": [
    {
     "data": {
      "text/plain": [
       "(308, 77, 19.95)"
      ]
     },
     "execution_count": 7,
     "metadata": {},
     "output_type": "execute_result"
    }
   ],
   "source": [
    "#Data splitting\n",
    "\n",
    "train = dff['Energy Consumption (kWh)'].loc['2019-11-01':'2020-09-03']\n",
    "test = dff['Energy Consumption (kWh)'].loc['2020-09-04':'2020-11-19']\n",
    "\n",
    "len(train), len(test), round(((len(test)/len(dff))*100), 2)"
   ]
  },
  {
   "cell_type": "code",
   "execution_count": null,
   "metadata": {},
   "outputs": [],
   "source": [
    "#Saving training dataset\n",
    "\n",
    "training_site = pd.DataFrame('CCC0611', index = train.index, columns = ['Site ID'])\n",
    "training = pd.concat([train, training_site], axis = 1)\n",
    "#len(training)\n",
    "#training.to_csv('CCC0611_training_data.csv')"
   ]
  },
  {
   "cell_type": "code",
   "execution_count": null,
   "metadata": {},
   "outputs": [],
   "source": [
    "plt.figure(figsize = (10, 8))\n",
    "plt.plot(train, color = 'b')\n",
    "plt.plot(test, color = 'orange')\n",
    "plt.title('CCC0611 - Energy Consumption (kWh)')\n",
    "plt.legend(['Train', 'Test'])\n",
    "plt.show()"
   ]
  },
  {
   "cell_type": "code",
   "execution_count": null,
   "metadata": {},
   "outputs": [],
   "source": [
    "train.hist()\n",
    "plt.title('Count vs. kWh')\n",
    "\n",
    "\n",
    "#Summary statistics\n",
    "\n",
    "s = train.values\n",
    "split = int(len(s)/2)\n",
    "s1, s2 = s[0:split], s[split:]\n",
    "mean1, mean2 = s1.mean(), s2.mean()\n",
    "var1, var2 = s1.var(), s2.var()\n",
    "\n",
    "print('Avg1 = %f, Avg2 = %f' % (mean1, mean2))\n",
    "print('Var1 = %f, Var2 = %f' % (var1, var2))"
   ]
  },
  {
   "cell_type": "code",
   "execution_count": null,
   "metadata": {},
   "outputs": [],
   "source": [
    "result = seasonal_decompose(train, period = 7)\n",
    "fig = result.plot()\n",
    "fig.set_size_inches(12, 8)"
   ]
  },
  {
   "cell_type": "code",
   "execution_count": null,
   "metadata": {},
   "outputs": [],
   "source": [
    "#Statistical Test 1: Difference stationarity test \n",
    "\n",
    "def adfuller_test(serie, figsize = (12,4), plot = True, title = \"\"):\n",
    "#    if plot:\n",
    "#        serie.plot(figsize = figsize, title = title)\n",
    "#        plt.show()\n",
    "    #Dickey Fuller test on the first difference\n",
    "    adf = adfuller(serie)\n",
    "    output = pd.Series(adf[0:4], index = ['ADF Statistic', 'p-value', 'Used Lags', 'Number of comments used'])\n",
    "#    output = round(output, 4)\n",
    "    \n",
    "    for key, value in adf[4].items():\n",
    "        output[\"Critical Value (%s)\" %key] = value\n",
    "    return output\n",
    "\n",
    "adfuller_test(train, title = ''), adfuller_test(train.diff().dropna(), title = '')"
   ]
  },
  {
   "cell_type": "code",
   "execution_count": null,
   "metadata": {},
   "outputs": [],
   "source": [
    "#Statistical Test 2: Assumes the series is stationary; non-stationary if p-value < 5% or test statistic is above critical values\n",
    "#Absence of unit root--> trend stationary \n",
    "\n",
    "def kpss_test(serie):\n",
    "    kpss_input = kpss(serie)\n",
    "    output = pd.Series(kpss_input[0:3], index = ['KPSS Statistic', 'p-value', 'Used Lags'])\n",
    "#    output = round(output, 4)\n",
    "    \n",
    "    for key, value in kpss_input[3].items():\n",
    "        output[\"Critical Value (%s)\" %key] = value \n",
    "    return output\n",
    "\n",
    "kpss_test(train), kpss_test(train.diff().dropna())"
   ]
  },
  {
   "cell_type": "code",
   "execution_count": null,
   "metadata": {},
   "outputs": [],
   "source": [
    "#First Difference\n",
    "train_1 = train.diff().dropna()\n",
    "\n",
    "plt.figure(figsize = (10, 8))\n",
    "plt.plot(train)\n",
    "plt.plot(train_1, color = 'orange')\n",
    "plt.title('CCC0611')\n",
    "plt.xlabel('Date')\n",
    "plt.ylabel('Energy Consumption (kWh)')\n",
    "plt.legend(['Train', 'Differenced Train'])"
   ]
  },
  {
   "cell_type": "code",
   "execution_count": null,
   "metadata": {},
   "outputs": [],
   "source": [
    "search_params = auto_arima(train, start_p = 1, start_q = 1, max_p = 3, max_q = 3, m = 12, start_P = 0, seasonal = True, d = 1, D = 1, \n",
    "                            trace = True, error_action = 'ignore', suppress_warnings = True, stepwise = True)\n",
    "\n",
    "print(\"AIC=\", search_params.aic())\n",
    "print(\"BIC=\", search_params.bic())"
   ]
  },
  {
   "cell_type": "code",
   "execution_count": null,
   "metadata": {},
   "outputs": [],
   "source": [
    "model = sm.tsa.statespace.SARIMAX(train, order = (0, 1, 0), seasonal_order = (2, 1, 0, 7))\n",
    "results = model.fit()\n",
    "\n",
    "print(results.summary().tables[0])"
   ]
  },
  {
   "cell_type": "code",
   "execution_count": null,
   "metadata": {},
   "outputs": [],
   "source": [
    "pred = results.get_forecast(steps = len(test))\n",
    "pred_ci = pred.conf_int()"
   ]
  },
  {
   "cell_type": "code",
   "execution_count": null,
   "metadata": {},
   "outputs": [],
   "source": [
    "forecast_data = pd.DataFrame(pred.predicted_mean, index = test.index, columns = ['Forecast'])\n",
    "fig = pd.concat([test, forecast_data], axis = 1).plot(title = 'CCC0611')"
   ]
  },
  {
   "cell_type": "code",
   "execution_count": null,
   "metadata": {},
   "outputs": [],
   "source": [
    "compare = pd.concat([test, pred_ci, forecast_data], axis = 1)\n",
    "compare.head(30)"
   ]
  },
  {
   "cell_type": "code",
   "execution_count": null,
   "metadata": {},
   "outputs": [],
   "source": [
    "def check_error(orig, fore):\n",
    "    \"\"\"This function generates performance metrics\"\"\"\n",
    "    \n",
    "    mse = mean_squared_error(orig, fore)\n",
    "    rmse = round(sqrt(mse), 2)\n",
    "    mape = round(np.mean(np.abs((orig - fore) / orig)) * 100, 2)\n",
    "    metrics = [rmse, mape]\n",
    "    \n",
    "    print('RMSE = ', metrics[0])\n",
    "    print('MAPE = ', metrics[1])\n",
    "\n",
    "\n",
    "check_error(test, compare['Forecast']) #pred.predicted_mean"
   ]
  },
  {
   "cell_type": "code",
   "execution_count": null,
   "metadata": {},
   "outputs": [],
   "source": [
    "results.plot_diagnostics(figsize = (16, 8))\n",
    "plt.show()"
   ]
  },
  {
   "cell_type": "code",
   "execution_count": null,
   "metadata": {},
   "outputs": [],
   "source": [
    "compare = pd.concat([test, forecast_data], axis = 1)\n",
    "#compare.head(30)"
   ]
  },
  {
   "cell_type": "code",
   "execution_count": null,
   "metadata": {},
   "outputs": [],
   "source": [
    "def plot_error(data, figsize = (14, 7)):\n",
    "    '''\n",
    "    '''\n",
    "    \n",
    "    plt.figure(figsize = figsize)\n",
    "#    ax1 = plt.subplot2grid((2,2), (0,0))\n",
    "    ax2 = plt.subplot2grid((2,2), (0,1))\n",
    "    \n",
    "    # Residual vs Predicted values\n",
    "    ax2.scatter(data.iloc[:, 1], data.iloc[:, 2])\n",
    "    ax2.set_xlabel('Forecasts')\n",
    "    ax2.set_ylabel('Errors')\n",
    "    ax2.set_title('Error versus Forecast')\n",
    "      \n",
    "    # Autocorrelation plot of the residual\n",
    "    plot_acf(data.iloc[:, 2], lags = len(data.iloc[:, 2])-1, zero = False)\n",
    "    plt.tight_layout()\n",
    "    \n",
    "    return plt.show()\n",
    "\n",
    "\n",
    "resultsdf['Error'] = resultsdf['Forecast'] - resultsdf['Energy Consumption (kWh)']\n",
    "#resultsdf.head()\n",
    "plot_error(resultsdf)"
   ]
  }
 ],
 "metadata": {
  "kernelspec": {
   "display_name": "Python 3",
   "language": "python",
   "name": "python3"
  },
  "language_info": {
   "codemirror_mode": {
    "name": "ipython",
    "version": 3
   },
   "file_extension": ".py",
   "mimetype": "text/x-python",
   "name": "python",
   "nbconvert_exporter": "python",
   "pygments_lexer": "ipython3",
   "version": "3.7.6"
  }
 },
 "nbformat": 4,
 "nbformat_minor": 4
}
